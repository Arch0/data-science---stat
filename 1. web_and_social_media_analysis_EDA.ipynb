{
  "nbformat": 4,
  "nbformat_minor": 0,
  "metadata": {
    "colab": {
      "name": "web and social media analysis EDA.ipynb",
      "provenance": [],
      "collapsed_sections": []
    },
    "kernelspec": {
      "name": "python3",
      "display_name": "Python 3"
    },
    "language_info": {
      "name": "python"
    }
  },
  "cells": [
    {
      "cell_type": "code",
      "metadata": {
        "colab": {
          "base_uri": "https://localhost:8080/"
        },
        "id": "85CRcjslyjos",
        "outputId": "b65b15aa-02f9-4389-ed77-f7e721700ad0"
      },
      "source": [
        "from google.colab import drive\n",
        "drive.mount('/content/drive')"
      ],
      "execution_count": 1,
      "outputs": [
        {
          "output_type": "stream",
          "text": [
            "Drive already mounted at /content/drive; to attempt to forcibly remount, call drive.mount(\"/content/drive\", force_remount=True).\n"
          ],
          "name": "stdout"
        }
      ]
    },
    {
      "cell_type": "code",
      "metadata": {
        "id": "jp22hwVjymT5"
      },
      "source": [
        "import pandas as pd\n",
        "import numpy as np"
      ],
      "execution_count": 2,
      "outputs": []
    },
    {
      "cell_type": "code",
      "metadata": {
        "id": "_yphCL8syxxg"
      },
      "source": [
        ""
      ],
      "execution_count": 2,
      "outputs": []
    },
    {
      "cell_type": "markdown",
      "metadata": {
        "id": "sdOdPPeFy0V-"
      },
      "source": [
        "The following data sets are available\n",
        "\n",
        "meta data of type .json\n",
        "\n",
        "phone data of type .csv\n",
        "\n",
        "The meta data holds information from sellers point of view and the phone data holds user information. We begin by unzipping the meta data file and extracting its content to a list"
      ]
    },
    {
      "cell_type": "code",
      "metadata": {
        "id": "7kWM8Xcuy1It"
      },
      "source": [
        ""
      ],
      "execution_count": 2,
      "outputs": []
    },
    {
      "cell_type": "markdown",
      "metadata": {
        "id": "Vdk6suXqy8dg"
      },
      "source": [
        "# Reading the  data"
      ]
    },
    {
      "cell_type": "code",
      "metadata": {
        "id": "QVyr9UPPy9Im"
      },
      "source": [
        "# Reading the meta data\n",
        "# importing libraries\n",
        "\n",
        "import gzip\n",
        "import shutil\n",
        "\n",
        "#Path to the meta data zip file. 'sentiment_analysis' is the folder name under 'My Drive'\n",
        "path1 = \"/content/drive/MyDrive/capston/Web and social media analytics/meta_Cell_Phones_and_Accessories.json.gz\"\n",
        "# Path to meta data .json file\n",
        "path2 =\"/content/drive/MyDrive/meta_Cell_Phones_and_Accessories.json (1).gz\"\n",
        "# Unzipping the meta data file\n",
        "with gzip.open(path1, 'rb') as f_in:\n",
        "    with open(path2, 'wb') as f_out:\n",
        "        shutil.copyfileobj(f_in, f_out)"
      ],
      "execution_count": 3,
      "outputs": []
    },
    {
      "cell_type": "code",
      "metadata": {
        "id": "PYNfvyTby_7J"
      },
      "source": [
        " #Reading the unzipped meta data into a Python list. The result will be a list of dictionaries. \n",
        "import json\n",
        "\n",
        "# Empty list to store the dictonaries\n",
        "phonemetadata = []\n",
        "\n",
        "# Reading the dictionaries in the json file and appending it to the list phonemetadata[]\n",
        "with open(path2, 'r') as f:\n",
        "    for line in f:\n",
        "        phonemetadata.append(json.loads(line))"
      ],
      "execution_count": 4,
      "outputs": []
    },
    {
      "cell_type": "code",
      "metadata": {
        "colab": {
          "base_uri": "https://localhost:8080/"
        },
        "id": "VuZ-bSjDzCcH",
        "outputId": "1d5df586-a42a-481b-e09e-2b98e12cdd20"
      },
      "source": [
        "# Getting the number of entries in the phonemetadata list\n",
        "len(phonemetadata)"
      ],
      "execution_count": 5,
      "outputs": [
        {
          "output_type": "execute_result",
          "data": {
            "text/plain": [
              "590071"
            ]
          },
          "metadata": {
            "tags": []
          },
          "execution_count": 5
        }
      ]
    },
    {
      "cell_type": "code",
      "metadata": {
        "id": "c1a6wc3ozE54"
      },
      "source": [
        "#converting the list phonemetadata into a data frame\n",
        "df_meta=pd.DataFrame(phonemetadata)"
      ],
      "execution_count": 6,
      "outputs": []
    },
    {
      "cell_type": "code",
      "metadata": {
        "colab": {
          "base_uri": "https://localhost:8080/",
          "height": 649
        },
        "id": "kgsGBEIUzHdU",
        "outputId": "1b60ebbd-b5b0-4ec8-ef56-5b6238cf0c4d"
      },
      "source": [
        "\n",
        "df_meta.head()"
      ],
      "execution_count": 7,
      "outputs": [
        {
          "output_type": "execute_result",
          "data": {
            "text/html": [
              "<div>\n",
              "<style scoped>\n",
              "    .dataframe tbody tr th:only-of-type {\n",
              "        vertical-align: middle;\n",
              "    }\n",
              "\n",
              "    .dataframe tbody tr th {\n",
              "        vertical-align: top;\n",
              "    }\n",
              "\n",
              "    .dataframe thead th {\n",
              "        text-align: right;\n",
              "    }\n",
              "</style>\n",
              "<table border=\"1\" class=\"dataframe\">\n",
              "  <thead>\n",
              "    <tr style=\"text-align: right;\">\n",
              "      <th></th>\n",
              "      <th>category</th>\n",
              "      <th>tech1</th>\n",
              "      <th>description</th>\n",
              "      <th>fit</th>\n",
              "      <th>title</th>\n",
              "      <th>also_buy</th>\n",
              "      <th>image</th>\n",
              "      <th>tech2</th>\n",
              "      <th>brand</th>\n",
              "      <th>feature</th>\n",
              "      <th>rank</th>\n",
              "      <th>also_view</th>\n",
              "      <th>details</th>\n",
              "      <th>main_cat</th>\n",
              "      <th>similar_item</th>\n",
              "      <th>date</th>\n",
              "      <th>price</th>\n",
              "      <th>asin</th>\n",
              "    </tr>\n",
              "  </thead>\n",
              "  <tbody>\n",
              "    <tr>\n",
              "      <th>0</th>\n",
              "      <td>[Cell Phones &amp; Accessories, Accessories, Scree...</td>\n",
              "      <td></td>\n",
              "      <td>[]</td>\n",
              "      <td></td>\n",
              "      <td>Trollies Sing a Long Party VHS</td>\n",
              "      <td>[]</td>\n",
              "      <td>[]</td>\n",
              "      <td></td>\n",
              "      <td></td>\n",
              "      <td>[]</td>\n",
              "      <td>557,379 in Movies &amp; TV (</td>\n",
              "      <td>[]</td>\n",
              "      <td>{'ASIN: ': '6303195164'}</td>\n",
              "      <td>Movies &amp; TV</td>\n",
              "      <td></td>\n",
              "      <td></td>\n",
              "      <td></td>\n",
              "      <td>6303195164</td>\n",
              "    </tr>\n",
              "    <tr>\n",
              "      <th>1</th>\n",
              "      <td>[Cell Phones &amp; Accessories, Accessories, Car A...</td>\n",
              "      <td></td>\n",
              "      <td>[]</td>\n",
              "      <td></td>\n",
              "      <td>La Pura VHS</td>\n",
              "      <td>[]</td>\n",
              "      <td>[]</td>\n",
              "      <td></td>\n",
              "      <td>Maribel Guardia</td>\n",
              "      <td>[]</td>\n",
              "      <td>1,024,449 in Movies &amp; TV (</td>\n",
              "      <td>[]</td>\n",
              "      <td>{'ASIN: ': '630524412X'}</td>\n",
              "      <td>Movies &amp; TV</td>\n",
              "      <td></td>\n",
              "      <td></td>\n",
              "      <td></td>\n",
              "      <td>630524412X</td>\n",
              "    </tr>\n",
              "    <tr>\n",
              "      <th>2</th>\n",
              "      <td>[Cell Phones &amp; Accessories, Cases, Holsters &amp; ...</td>\n",
              "      <td></td>\n",
              "      <td>[New items to give you a new good mood, welcom...</td>\n",
              "      <td></td>\n",
              "      <td>Leopard Thanksgiving Easter PC Black Case for ...</td>\n",
              "      <td>[]</td>\n",
              "      <td>[]</td>\n",
              "      <td></td>\n",
              "      <td></td>\n",
              "      <td>[]</td>\n",
              "      <td>5,315,017 in Books (</td>\n",
              "      <td>[]</td>\n",
              "      <td>{'Publisher:': 'juduiou', 'ASIN:': '6310200240...</td>\n",
              "      <td>Books</td>\n",
              "      <td></td>\n",
              "      <td></td>\n",
              "      <td></td>\n",
              "      <td>6310200240</td>\n",
              "    </tr>\n",
              "    <tr>\n",
              "      <th>3</th>\n",
              "      <td>[Cell Phones &amp; Accessories, Cases, Holsters &amp; ...</td>\n",
              "      <td></td>\n",
              "      <td>[A brand-new, unused, unopened, undamaged item...</td>\n",
              "      <td></td>\n",
              "      <td>Puppies Faceplate Hard Case Protector for Net1...</td>\n",
              "      <td>[]</td>\n",
              "      <td>[]</td>\n",
              "      <td></td>\n",
              "      <td>Live2Pedal</td>\n",
              "      <td>[Protect your phone with style through this At...</td>\n",
              "      <td>[&gt;#6,368,825 in Cell Phones &amp; Accessories (See...</td>\n",
              "      <td>[]</td>\n",
              "      <td>{}</td>\n",
              "      <td>Cell Phones &amp; Accessories</td>\n",
              "      <td></td>\n",
              "      <td></td>\n",
              "      <td></td>\n",
              "      <td>6786501710</td>\n",
              "    </tr>\n",
              "    <tr>\n",
              "      <th>4</th>\n",
              "      <td>[Cell Phones &amp; Accessories, Cases, Holsters &amp; ...</td>\n",
              "      <td></td>\n",
              "      <td>[A brand-new, unused, unopened, undamaged item...</td>\n",
              "      <td></td>\n",
              "      <td>White Wolf Faceplate Protector Hard Case for S...</td>\n",
              "      <td>[]</td>\n",
              "      <td>[]</td>\n",
              "      <td></td>\n",
              "      <td>wirelessoutletusa</td>\n",
              "      <td>[Protect your phone with style through this At...</td>\n",
              "      <td>[&gt;#2,672,454 in Cell Phones &amp; Accessories (See...</td>\n",
              "      <td>[]</td>\n",
              "      <td>{}</td>\n",
              "      <td>Cell Phones &amp; Accessories</td>\n",
              "      <td></td>\n",
              "      <td></td>\n",
              "      <td></td>\n",
              "      <td>6786501273</td>\n",
              "    </tr>\n",
              "  </tbody>\n",
              "</table>\n",
              "</div>"
            ],
            "text/plain": [
              "                                            category tech1  ... price        asin\n",
              "0  [Cell Phones & Accessories, Accessories, Scree...        ...        6303195164\n",
              "1  [Cell Phones & Accessories, Accessories, Car A...        ...        630524412X\n",
              "2  [Cell Phones & Accessories, Cases, Holsters & ...        ...        6310200240\n",
              "3  [Cell Phones & Accessories, Cases, Holsters & ...        ...        6786501710\n",
              "4  [Cell Phones & Accessories, Cases, Holsters & ...        ...        6786501273\n",
              "\n",
              "[5 rows x 18 columns]"
            ]
          },
          "metadata": {
            "tags": []
          },
          "execution_count": 7
        }
      ]
    },
    {
      "cell_type": "code",
      "metadata": {
        "colab": {
          "base_uri": "https://localhost:8080/"
        },
        "id": "4ge_rL-3zHis",
        "outputId": "81efaf37-9e2d-4a72-ae68-4e4a3afb9f44"
      },
      "source": [
        "df_meta.shape"
      ],
      "execution_count": 8,
      "outputs": [
        {
          "output_type": "execute_result",
          "data": {
            "text/plain": [
              "(590071, 18)"
            ]
          },
          "metadata": {
            "tags": []
          },
          "execution_count": 8
        }
      ]
    },
    {
      "cell_type": "code",
      "metadata": {
        "colab": {
          "base_uri": "https://localhost:8080/"
        },
        "id": "les1GE1zzHoP",
        "outputId": "045467e3-0798-47b4-ff98-ad515e4b38d9"
      },
      "source": [
        "df_meta.info()"
      ],
      "execution_count": 9,
      "outputs": [
        {
          "output_type": "stream",
          "text": [
            "<class 'pandas.core.frame.DataFrame'>\n",
            "RangeIndex: 590071 entries, 0 to 590070\n",
            "Data columns (total 18 columns):\n",
            " #   Column        Non-Null Count   Dtype \n",
            "---  ------        --------------   ----- \n",
            " 0   category      590071 non-null  object\n",
            " 1   tech1         590071 non-null  object\n",
            " 2   description   590071 non-null  object\n",
            " 3   fit           590071 non-null  object\n",
            " 4   title         590071 non-null  object\n",
            " 5   also_buy      590071 non-null  object\n",
            " 6   image         590071 non-null  object\n",
            " 7   tech2         590071 non-null  object\n",
            " 8   brand         590071 non-null  object\n",
            " 9   feature       590071 non-null  object\n",
            " 10  rank          590071 non-null  object\n",
            " 11  also_view     590071 non-null  object\n",
            " 12  details       590071 non-null  object\n",
            " 13  main_cat      590071 non-null  object\n",
            " 14  similar_item  590071 non-null  object\n",
            " 15  date          590071 non-null  object\n",
            " 16  price         590071 non-null  object\n",
            " 17  asin          590071 non-null  object\n",
            "dtypes: object(18)\n",
            "memory usage: 81.0+ MB\n"
          ],
          "name": "stdout"
        }
      ]
    },
    {
      "cell_type": "code",
      "metadata": {
        "id": "WofckzOQzHse"
      },
      "source": [
        ""
      ],
      "execution_count": 9,
      "outputs": []
    },
    {
      "cell_type": "markdown",
      "metadata": {
        "id": "vt_ji4RmzQz_"
      },
      "source": [
        "## Meta data cleaning"
      ]
    },
    {
      "cell_type": "markdown",
      "metadata": {
        "id": "8-kl3XS5zaqu"
      },
      "source": [
        "tech1, tech2, fit , image, details, dates these are unnecessary columns that can be dropped \n",
        "\n",
        "\n",
        "\n"
      ]
    },
    {
      "cell_type": "code",
      "metadata": {
        "colab": {
          "base_uri": "https://localhost:8080/",
          "height": 459
        },
        "id": "zMAONaSPzRQ9",
        "outputId": "d438cd7d-eaa0-439d-ff0f-6db1fae259fe"
      },
      "source": [
        "df_meta=df_meta.drop([\"tech1\",\"tech2\",\"fit\",\"image\",\"details\",\"date\"],axis=1)\n",
        "df_meta.head()"
      ],
      "execution_count": 10,
      "outputs": [
        {
          "output_type": "execute_result",
          "data": {
            "text/html": [
              "<div>\n",
              "<style scoped>\n",
              "    .dataframe tbody tr th:only-of-type {\n",
              "        vertical-align: middle;\n",
              "    }\n",
              "\n",
              "    .dataframe tbody tr th {\n",
              "        vertical-align: top;\n",
              "    }\n",
              "\n",
              "    .dataframe thead th {\n",
              "        text-align: right;\n",
              "    }\n",
              "</style>\n",
              "<table border=\"1\" class=\"dataframe\">\n",
              "  <thead>\n",
              "    <tr style=\"text-align: right;\">\n",
              "      <th></th>\n",
              "      <th>category</th>\n",
              "      <th>description</th>\n",
              "      <th>title</th>\n",
              "      <th>also_buy</th>\n",
              "      <th>brand</th>\n",
              "      <th>feature</th>\n",
              "      <th>rank</th>\n",
              "      <th>also_view</th>\n",
              "      <th>main_cat</th>\n",
              "      <th>similar_item</th>\n",
              "      <th>price</th>\n",
              "      <th>asin</th>\n",
              "    </tr>\n",
              "  </thead>\n",
              "  <tbody>\n",
              "    <tr>\n",
              "      <th>0</th>\n",
              "      <td>[Cell Phones &amp; Accessories, Accessories, Scree...</td>\n",
              "      <td>[]</td>\n",
              "      <td>Trollies Sing a Long Party VHS</td>\n",
              "      <td>[]</td>\n",
              "      <td></td>\n",
              "      <td>[]</td>\n",
              "      <td>557,379 in Movies &amp; TV (</td>\n",
              "      <td>[]</td>\n",
              "      <td>Movies &amp; TV</td>\n",
              "      <td></td>\n",
              "      <td></td>\n",
              "      <td>6303195164</td>\n",
              "    </tr>\n",
              "    <tr>\n",
              "      <th>1</th>\n",
              "      <td>[Cell Phones &amp; Accessories, Accessories, Car A...</td>\n",
              "      <td>[]</td>\n",
              "      <td>La Pura VHS</td>\n",
              "      <td>[]</td>\n",
              "      <td>Maribel Guardia</td>\n",
              "      <td>[]</td>\n",
              "      <td>1,024,449 in Movies &amp; TV (</td>\n",
              "      <td>[]</td>\n",
              "      <td>Movies &amp; TV</td>\n",
              "      <td></td>\n",
              "      <td></td>\n",
              "      <td>630524412X</td>\n",
              "    </tr>\n",
              "    <tr>\n",
              "      <th>2</th>\n",
              "      <td>[Cell Phones &amp; Accessories, Cases, Holsters &amp; ...</td>\n",
              "      <td>[New items to give you a new good mood, welcom...</td>\n",
              "      <td>Leopard Thanksgiving Easter PC Black Case for ...</td>\n",
              "      <td>[]</td>\n",
              "      <td></td>\n",
              "      <td>[]</td>\n",
              "      <td>5,315,017 in Books (</td>\n",
              "      <td>[]</td>\n",
              "      <td>Books</td>\n",
              "      <td></td>\n",
              "      <td></td>\n",
              "      <td>6310200240</td>\n",
              "    </tr>\n",
              "    <tr>\n",
              "      <th>3</th>\n",
              "      <td>[Cell Phones &amp; Accessories, Cases, Holsters &amp; ...</td>\n",
              "      <td>[A brand-new, unused, unopened, undamaged item...</td>\n",
              "      <td>Puppies Faceplate Hard Case Protector for Net1...</td>\n",
              "      <td>[]</td>\n",
              "      <td>Live2Pedal</td>\n",
              "      <td>[Protect your phone with style through this At...</td>\n",
              "      <td>[&gt;#6,368,825 in Cell Phones &amp; Accessories (See...</td>\n",
              "      <td>[]</td>\n",
              "      <td>Cell Phones &amp; Accessories</td>\n",
              "      <td></td>\n",
              "      <td></td>\n",
              "      <td>6786501710</td>\n",
              "    </tr>\n",
              "    <tr>\n",
              "      <th>4</th>\n",
              "      <td>[Cell Phones &amp; Accessories, Cases, Holsters &amp; ...</td>\n",
              "      <td>[A brand-new, unused, unopened, undamaged item...</td>\n",
              "      <td>White Wolf Faceplate Protector Hard Case for S...</td>\n",
              "      <td>[]</td>\n",
              "      <td>wirelessoutletusa</td>\n",
              "      <td>[Protect your phone with style through this At...</td>\n",
              "      <td>[&gt;#2,672,454 in Cell Phones &amp; Accessories (See...</td>\n",
              "      <td>[]</td>\n",
              "      <td>Cell Phones &amp; Accessories</td>\n",
              "      <td></td>\n",
              "      <td></td>\n",
              "      <td>6786501273</td>\n",
              "    </tr>\n",
              "  </tbody>\n",
              "</table>\n",
              "</div>"
            ],
            "text/plain": [
              "                                            category  ...        asin\n",
              "0  [Cell Phones & Accessories, Accessories, Scree...  ...  6303195164\n",
              "1  [Cell Phones & Accessories, Accessories, Car A...  ...  630524412X\n",
              "2  [Cell Phones & Accessories, Cases, Holsters & ...  ...  6310200240\n",
              "3  [Cell Phones & Accessories, Cases, Holsters & ...  ...  6786501710\n",
              "4  [Cell Phones & Accessories, Cases, Holsters & ...  ...  6786501273\n",
              "\n",
              "[5 rows x 12 columns]"
            ]
          },
          "metadata": {
            "tags": []
          },
          "execution_count": 10
        }
      ]
    },
    {
      "cell_type": "code",
      "metadata": {
        "colab": {
          "base_uri": "https://localhost:8080/"
        },
        "id": "RJ3qQZNIzfv9",
        "outputId": "0e5cdb8f-741c-4db7-d956-f850d2b6993f"
      },
      "source": [
        "df_meta.isnull().sum()"
      ],
      "execution_count": 11,
      "outputs": [
        {
          "output_type": "execute_result",
          "data": {
            "text/plain": [
              "category        0\n",
              "description     0\n",
              "title           0\n",
              "also_buy        0\n",
              "brand           0\n",
              "feature         0\n",
              "rank            0\n",
              "also_view       0\n",
              "main_cat        0\n",
              "similar_item    0\n",
              "price           0\n",
              "asin            0\n",
              "dtype: int64"
            ]
          },
          "metadata": {
            "tags": []
          },
          "execution_count": 11
        }
      ]
    },
    {
      "cell_type": "code",
      "metadata": {
        "colab": {
          "base_uri": "https://localhost:8080/"
        },
        "id": "i_Kim0L-ziWP",
        "outputId": "818f6324-f277-44a2-d34c-16e15eeefe02"
      },
      "source": [
        "\n",
        "df_meta['main_cat'].describe()"
      ],
      "execution_count": 12,
      "outputs": [
        {
          "output_type": "execute_result",
          "data": {
            "text/plain": [
              "count                        590071\n",
              "unique                           36\n",
              "top       Cell Phones & Accessories\n",
              "freq                         527543\n",
              "Name: main_cat, dtype: object"
            ]
          },
          "metadata": {
            "tags": []
          },
          "execution_count": 12
        }
      ]
    },
    {
      "cell_type": "code",
      "metadata": {
        "id": "Uu0xVsp7zk7c"
      },
      "source": [
        ""
      ],
      "execution_count": 12,
      "outputs": []
    },
    {
      "cell_type": "markdown",
      "metadata": {
        "id": "LyxEqY30znnN"
      },
      "source": [
        "# filter the Cell Phones only from the category column"
      ]
    },
    {
      "cell_type": "code",
      "metadata": {
        "colab": {
          "base_uri": "https://localhost:8080/",
          "height": 598
        },
        "id": "3qNcZrzbzon7",
        "outputId": "7a2e7233-791f-4db5-81b3-18224fef870f"
      },
      "source": [
        "df_meta['catfilter'] =  [each[1] if len(each)>2 else \"\" for each in df_meta['category']]\n",
        "df_meta = df_meta[df_meta['catfilter'] == \"Cell Phones\"]\n",
        "df_meta.head()"
      ],
      "execution_count": 13,
      "outputs": [
        {
          "output_type": "execute_result",
          "data": {
            "text/html": [
              "<div>\n",
              "<style scoped>\n",
              "    .dataframe tbody tr th:only-of-type {\n",
              "        vertical-align: middle;\n",
              "    }\n",
              "\n",
              "    .dataframe tbody tr th {\n",
              "        vertical-align: top;\n",
              "    }\n",
              "\n",
              "    .dataframe thead th {\n",
              "        text-align: right;\n",
              "    }\n",
              "</style>\n",
              "<table border=\"1\" class=\"dataframe\">\n",
              "  <thead>\n",
              "    <tr style=\"text-align: right;\">\n",
              "      <th></th>\n",
              "      <th>category</th>\n",
              "      <th>description</th>\n",
              "      <th>title</th>\n",
              "      <th>also_buy</th>\n",
              "      <th>brand</th>\n",
              "      <th>feature</th>\n",
              "      <th>rank</th>\n",
              "      <th>also_view</th>\n",
              "      <th>main_cat</th>\n",
              "      <th>similar_item</th>\n",
              "      <th>price</th>\n",
              "      <th>asin</th>\n",
              "      <th>catfilter</th>\n",
              "    </tr>\n",
              "  </thead>\n",
              "  <tbody>\n",
              "    <tr>\n",
              "      <th>36</th>\n",
              "      <td>[Cell Phones &amp; Accessories, Cell Phones, Unloc...</td>\n",
              "      <td>[ICE CENIOR *SENIOR PHONE*, QUAD BAND Super bi...</td>\n",
              "      <td>UNLOCKED DUAL SIM SLOT *CENIOR PHONE* QUAD BAN...</td>\n",
              "      <td>[]</td>\n",
              "      <td>Ice</td>\n",
              "      <td>[2G NETWORK, Quad Band: GSM 850/900/1800/1900 ...</td>\n",
              "      <td>[&gt;#6,356,920 in Cell Phones &amp; Accessories (See...</td>\n",
              "      <td>[]</td>\n",
              "      <td>Cell Phones &amp; Accessories</td>\n",
              "      <td></td>\n",
              "      <td></td>\n",
              "      <td>8050110508</td>\n",
              "      <td>Cell Phones</td>\n",
              "    </tr>\n",
              "    <tr>\n",
              "      <th>1274</th>\n",
              "      <td>[Cell Phones &amp; Accessories, Cell Phones, Unloc...</td>\n",
              "      <td>[Standard package: 1 x original phone 1 x Qual...</td>\n",
              "      <td>Nokia 3310 Blue Nokia</td>\n",
              "      <td>[B075FL4H89, B00R25GJJW]</td>\n",
              "      <td>Nokia</td>\n",
              "      <td>[GSM 900/1800, Simple and elegant, Classic mod...</td>\n",
              "      <td>[&gt;#32,759 in Electronics (See Top 100 in Elect...</td>\n",
              "      <td>[B075FL4H89, B075FKZMR2, B00TLWTJLO, B0757B64H...</td>\n",
              "      <td>All Electronics</td>\n",
              "      <td>class=\"a-bordered a-horizontal-stripes  a-spa...</td>\n",
              "      <td></td>\n",
              "      <td>B00005KBGR</td>\n",
              "      <td>Cell Phones</td>\n",
              "    </tr>\n",
              "    <tr>\n",
              "      <th>1354</th>\n",
              "      <td>[Cell Phones &amp; Accessories, Cell Phones, Carri...</td>\n",
              "      <td>[Based on Motorola&amp;#x92;s i90c phone, the i95c...</td>\n",
              "      <td>Motorola i95cl Phone (Nextel)</td>\n",
              "      <td>[]</td>\n",
              "      <td></td>\n",
              "      <td>[]</td>\n",
              "      <td>[&gt;#3,798,962 in Cell Phones &amp; Accessories (See...</td>\n",
              "      <td>[]</td>\n",
              "      <td>Cell Phones &amp; Accessories</td>\n",
              "      <td></td>\n",
              "      <td></td>\n",
              "      <td>B00006J9HH</td>\n",
              "      <td>Cell Phones</td>\n",
              "    </tr>\n",
              "    <tr>\n",
              "      <th>1361</th>\n",
              "      <td>[Cell Phones &amp; Accessories, Cell Phones, Carri...</td>\n",
              "      <td>[This is a GSM Samsung R225 cellular phone tha...</td>\n",
              "      <td>T-Mobile Dual-Band Wireless Phone</td>\n",
              "      <td>[]</td>\n",
              "      <td>Samsung</td>\n",
              "      <td>[]</td>\n",
              "      <td>[&gt;#5,552,033 in Cell Phones &amp; Accessories (See...</td>\n",
              "      <td>[]</td>\n",
              "      <td>Cell Phones &amp; Accessories</td>\n",
              "      <td></td>\n",
              "      <td></td>\n",
              "      <td>B00006LIQB</td>\n",
              "      <td>Cell Phones</td>\n",
              "    </tr>\n",
              "    <tr>\n",
              "      <th>1395</th>\n",
              "      <td>[Cell Phones &amp; Accessories, Cell Phones, Unloc...</td>\n",
              "      <td>[Dark Blue OEM faceplate, Wall charger and bat...</td>\n",
              "      <td>Unlocked Nokia 8290</td>\n",
              "      <td>[]</td>\n",
              "      <td>Nokia</td>\n",
              "      <td>[Modes GSM 1900, 2-way Text Messaging, MMS: No...</td>\n",
              "      <td>[&gt;#6,167,064 in Cell Phones &amp; Accessories (See...</td>\n",
              "      <td>[]</td>\n",
              "      <td>Cell Phones &amp; Accessories</td>\n",
              "      <td></td>\n",
              "      <td></td>\n",
              "      <td>B00008KGAG</td>\n",
              "      <td>Cell Phones</td>\n",
              "    </tr>\n",
              "  </tbody>\n",
              "</table>\n",
              "</div>"
            ],
            "text/plain": [
              "                                               category  ...    catfilter\n",
              "36    [Cell Phones & Accessories, Cell Phones, Unloc...  ...  Cell Phones\n",
              "1274  [Cell Phones & Accessories, Cell Phones, Unloc...  ...  Cell Phones\n",
              "1354  [Cell Phones & Accessories, Cell Phones, Carri...  ...  Cell Phones\n",
              "1361  [Cell Phones & Accessories, Cell Phones, Carri...  ...  Cell Phones\n",
              "1395  [Cell Phones & Accessories, Cell Phones, Unloc...  ...  Cell Phones\n",
              "\n",
              "[5 rows x 13 columns]"
            ]
          },
          "metadata": {
            "tags": []
          },
          "execution_count": 13
        }
      ]
    },
    {
      "cell_type": "code",
      "metadata": {
        "id": "RY8Gt9pMzuTU"
      },
      "source": [
        ""
      ],
      "execution_count": 13,
      "outputs": []
    },
    {
      "cell_type": "markdown",
      "metadata": {
        "id": "TJg0f9_3zwx-"
      },
      "source": [
        "Drop the duplicates \"asin\"\n"
      ]
    },
    {
      "cell_type": "code",
      "metadata": {
        "colab": {
          "base_uri": "https://localhost:8080/",
          "height": 598
        },
        "id": "N4j9PR1-zxyU",
        "outputId": "169d4b56-8cf8-4893-92a4-5b6d0aa3c04d"
      },
      "source": [
        "df_meta=df_meta.drop_duplicates(subset=[\"asin\"])\n",
        "df_meta.head()"
      ],
      "execution_count": 14,
      "outputs": [
        {
          "output_type": "execute_result",
          "data": {
            "text/html": [
              "<div>\n",
              "<style scoped>\n",
              "    .dataframe tbody tr th:only-of-type {\n",
              "        vertical-align: middle;\n",
              "    }\n",
              "\n",
              "    .dataframe tbody tr th {\n",
              "        vertical-align: top;\n",
              "    }\n",
              "\n",
              "    .dataframe thead th {\n",
              "        text-align: right;\n",
              "    }\n",
              "</style>\n",
              "<table border=\"1\" class=\"dataframe\">\n",
              "  <thead>\n",
              "    <tr style=\"text-align: right;\">\n",
              "      <th></th>\n",
              "      <th>category</th>\n",
              "      <th>description</th>\n",
              "      <th>title</th>\n",
              "      <th>also_buy</th>\n",
              "      <th>brand</th>\n",
              "      <th>feature</th>\n",
              "      <th>rank</th>\n",
              "      <th>also_view</th>\n",
              "      <th>main_cat</th>\n",
              "      <th>similar_item</th>\n",
              "      <th>price</th>\n",
              "      <th>asin</th>\n",
              "      <th>catfilter</th>\n",
              "    </tr>\n",
              "  </thead>\n",
              "  <tbody>\n",
              "    <tr>\n",
              "      <th>36</th>\n",
              "      <td>[Cell Phones &amp; Accessories, Cell Phones, Unloc...</td>\n",
              "      <td>[ICE CENIOR *SENIOR PHONE*, QUAD BAND Super bi...</td>\n",
              "      <td>UNLOCKED DUAL SIM SLOT *CENIOR PHONE* QUAD BAN...</td>\n",
              "      <td>[]</td>\n",
              "      <td>Ice</td>\n",
              "      <td>[2G NETWORK, Quad Band: GSM 850/900/1800/1900 ...</td>\n",
              "      <td>[&gt;#6,356,920 in Cell Phones &amp; Accessories (See...</td>\n",
              "      <td>[]</td>\n",
              "      <td>Cell Phones &amp; Accessories</td>\n",
              "      <td></td>\n",
              "      <td></td>\n",
              "      <td>8050110508</td>\n",
              "      <td>Cell Phones</td>\n",
              "    </tr>\n",
              "    <tr>\n",
              "      <th>1274</th>\n",
              "      <td>[Cell Phones &amp; Accessories, Cell Phones, Unloc...</td>\n",
              "      <td>[Standard package: 1 x original phone 1 x Qual...</td>\n",
              "      <td>Nokia 3310 Blue Nokia</td>\n",
              "      <td>[B075FL4H89, B00R25GJJW]</td>\n",
              "      <td>Nokia</td>\n",
              "      <td>[GSM 900/1800, Simple and elegant, Classic mod...</td>\n",
              "      <td>[&gt;#32,759 in Electronics (See Top 100 in Elect...</td>\n",
              "      <td>[B075FL4H89, B075FKZMR2, B00TLWTJLO, B0757B64H...</td>\n",
              "      <td>All Electronics</td>\n",
              "      <td>class=\"a-bordered a-horizontal-stripes  a-spa...</td>\n",
              "      <td></td>\n",
              "      <td>B00005KBGR</td>\n",
              "      <td>Cell Phones</td>\n",
              "    </tr>\n",
              "    <tr>\n",
              "      <th>1354</th>\n",
              "      <td>[Cell Phones &amp; Accessories, Cell Phones, Carri...</td>\n",
              "      <td>[Based on Motorola&amp;#x92;s i90c phone, the i95c...</td>\n",
              "      <td>Motorola i95cl Phone (Nextel)</td>\n",
              "      <td>[]</td>\n",
              "      <td></td>\n",
              "      <td>[]</td>\n",
              "      <td>[&gt;#3,798,962 in Cell Phones &amp; Accessories (See...</td>\n",
              "      <td>[]</td>\n",
              "      <td>Cell Phones &amp; Accessories</td>\n",
              "      <td></td>\n",
              "      <td></td>\n",
              "      <td>B00006J9HH</td>\n",
              "      <td>Cell Phones</td>\n",
              "    </tr>\n",
              "    <tr>\n",
              "      <th>1361</th>\n",
              "      <td>[Cell Phones &amp; Accessories, Cell Phones, Carri...</td>\n",
              "      <td>[This is a GSM Samsung R225 cellular phone tha...</td>\n",
              "      <td>T-Mobile Dual-Band Wireless Phone</td>\n",
              "      <td>[]</td>\n",
              "      <td>Samsung</td>\n",
              "      <td>[]</td>\n",
              "      <td>[&gt;#5,552,033 in Cell Phones &amp; Accessories (See...</td>\n",
              "      <td>[]</td>\n",
              "      <td>Cell Phones &amp; Accessories</td>\n",
              "      <td></td>\n",
              "      <td></td>\n",
              "      <td>B00006LIQB</td>\n",
              "      <td>Cell Phones</td>\n",
              "    </tr>\n",
              "    <tr>\n",
              "      <th>1395</th>\n",
              "      <td>[Cell Phones &amp; Accessories, Cell Phones, Unloc...</td>\n",
              "      <td>[Dark Blue OEM faceplate, Wall charger and bat...</td>\n",
              "      <td>Unlocked Nokia 8290</td>\n",
              "      <td>[]</td>\n",
              "      <td>Nokia</td>\n",
              "      <td>[Modes GSM 1900, 2-way Text Messaging, MMS: No...</td>\n",
              "      <td>[&gt;#6,167,064 in Cell Phones &amp; Accessories (See...</td>\n",
              "      <td>[]</td>\n",
              "      <td>Cell Phones &amp; Accessories</td>\n",
              "      <td></td>\n",
              "      <td></td>\n",
              "      <td>B00008KGAG</td>\n",
              "      <td>Cell Phones</td>\n",
              "    </tr>\n",
              "  </tbody>\n",
              "</table>\n",
              "</div>"
            ],
            "text/plain": [
              "                                               category  ...    catfilter\n",
              "36    [Cell Phones & Accessories, Cell Phones, Unloc...  ...  Cell Phones\n",
              "1274  [Cell Phones & Accessories, Cell Phones, Unloc...  ...  Cell Phones\n",
              "1354  [Cell Phones & Accessories, Cell Phones, Carri...  ...  Cell Phones\n",
              "1361  [Cell Phones & Accessories, Cell Phones, Carri...  ...  Cell Phones\n",
              "1395  [Cell Phones & Accessories, Cell Phones, Unloc...  ...  Cell Phones\n",
              "\n",
              "[5 rows x 13 columns]"
            ]
          },
          "metadata": {
            "tags": []
          },
          "execution_count": 14
        }
      ]
    },
    {
      "cell_type": "code",
      "metadata": {
        "colab": {
          "base_uri": "https://localhost:8080/"
        },
        "id": "rxLyWRTCzz7U",
        "outputId": "da332b69-2b2d-4d6e-cc11-77a0608a1009"
      },
      "source": [
        "df_meta['asin'].describe()"
      ],
      "execution_count": 15,
      "outputs": [
        {
          "output_type": "execute_result",
          "data": {
            "text/plain": [
              "count           9652\n",
              "unique          9652\n",
              "top       B00R7KKR40\n",
              "freq               1\n",
              "Name: asin, dtype: object"
            ]
          },
          "metadata": {
            "tags": []
          },
          "execution_count": 15
        }
      ]
    },
    {
      "cell_type": "markdown",
      "metadata": {
        "id": "7vpqoQjHz409"
      },
      "source": [
        "## Phone data"
      ]
    },
    {
      "cell_type": "code",
      "metadata": {
        "colab": {
          "base_uri": "https://localhost:8080/"
        },
        "id": "6aINh7GQz2Yu",
        "outputId": "9e5571e6-41a3-4500-d4ef-75b5df8bcfa6"
      },
      "source": [
        "#Reading the .csv file of the phone data into a dataframe\n",
        "\n",
        "df_phonedata = pd.read_csv(\"/content/drive/MyDrive/capston/Web and social media analytics/Cell_Phones_and_Accessories_5.csv\")"
      ],
      "execution_count": 16,
      "outputs": [
        {
          "output_type": "stream",
          "text": [
            "/usr/local/lib/python3.7/dist-packages/IPython/core/interactiveshell.py:2718: DtypeWarning: Columns (9) have mixed types.Specify dtype option on import or set low_memory=False.\n",
            "  interactivity=interactivity, compiler=compiler, result=result)\n"
          ],
          "name": "stderr"
        }
      ]
    },
    {
      "cell_type": "code",
      "metadata": {
        "colab": {
          "base_uri": "https://localhost:8080/",
          "height": 306
        },
        "id": "DjojYG1vz_pb",
        "outputId": "241ceb64-6829-4c7d-d8a6-479c3e4afd8c"
      },
      "source": [
        "df_phonedata.head(5)"
      ],
      "execution_count": 17,
      "outputs": [
        {
          "output_type": "execute_result",
          "data": {
            "text/html": [
              "<div>\n",
              "<style scoped>\n",
              "    .dataframe tbody tr th:only-of-type {\n",
              "        vertical-align: middle;\n",
              "    }\n",
              "\n",
              "    .dataframe tbody tr th {\n",
              "        vertical-align: top;\n",
              "    }\n",
              "\n",
              "    .dataframe thead th {\n",
              "        text-align: right;\n",
              "    }\n",
              "</style>\n",
              "<table border=\"1\" class=\"dataframe\">\n",
              "  <thead>\n",
              "    <tr style=\"text-align: right;\">\n",
              "      <th></th>\n",
              "      <th>overall</th>\n",
              "      <th>verified</th>\n",
              "      <th>reviewerID</th>\n",
              "      <th>asin</th>\n",
              "      <th>style</th>\n",
              "      <th>reviewerName</th>\n",
              "      <th>reviewText</th>\n",
              "      <th>summary</th>\n",
              "      <th>unixReviewTime</th>\n",
              "      <th>vote</th>\n",
              "      <th>image</th>\n",
              "      <th>review_sentiment</th>\n",
              "    </tr>\n",
              "  </thead>\n",
              "  <tbody>\n",
              "    <tr>\n",
              "      <th>0</th>\n",
              "      <td>5.0</td>\n",
              "      <td>True</td>\n",
              "      <td>A24E3SXTC62LJI</td>\n",
              "      <td>7508492919</td>\n",
              "      <td>{'Color:': ' Bling'}</td>\n",
              "      <td>Claudia Valdivia</td>\n",
              "      <td>Looks even better in person. Be careful to not...</td>\n",
              "      <td>Can't stop won't stop looking at it</td>\n",
              "      <td>1407110400</td>\n",
              "      <td>NaN</td>\n",
              "      <td>NaN</td>\n",
              "      <td>POSITIVE</td>\n",
              "    </tr>\n",
              "    <tr>\n",
              "      <th>1</th>\n",
              "      <td>5.0</td>\n",
              "      <td>True</td>\n",
              "      <td>A269FLZCB4GIPV</td>\n",
              "      <td>7508492919</td>\n",
              "      <td>NaN</td>\n",
              "      <td>sarah ponce</td>\n",
              "      <td>When you don't want to spend a whole lot of ca...</td>\n",
              "      <td>1</td>\n",
              "      <td>1392163200</td>\n",
              "      <td>NaN</td>\n",
              "      <td>NaN</td>\n",
              "      <td>POSITIVE</td>\n",
              "    </tr>\n",
              "    <tr>\n",
              "      <th>2</th>\n",
              "      <td>3.0</td>\n",
              "      <td>True</td>\n",
              "      <td>AB6CHQWHZW4TV</td>\n",
              "      <td>7508492919</td>\n",
              "      <td>NaN</td>\n",
              "      <td>Kai</td>\n",
              "      <td>so the case came on time, i love the design. I...</td>\n",
              "      <td>Its okay</td>\n",
              "      <td>1391817600</td>\n",
              "      <td>NaN</td>\n",
              "      <td>NaN</td>\n",
              "      <td>NEGATIVE</td>\n",
              "    </tr>\n",
              "    <tr>\n",
              "      <th>3</th>\n",
              "      <td>2.0</td>\n",
              "      <td>True</td>\n",
              "      <td>A1M117A53LEI8</td>\n",
              "      <td>7508492919</td>\n",
              "      <td>NaN</td>\n",
              "      <td>Sharon Williams</td>\n",
              "      <td>DON'T CARE FOR IT.  GAVE IT AS A GIFT AND THEY...</td>\n",
              "      <td>CASE</td>\n",
              "      <td>1391472000</td>\n",
              "      <td>NaN</td>\n",
              "      <td>NaN</td>\n",
              "      <td>POSITIVE</td>\n",
              "    </tr>\n",
              "    <tr>\n",
              "      <th>4</th>\n",
              "      <td>4.0</td>\n",
              "      <td>True</td>\n",
              "      <td>A272DUT8M88ZS8</td>\n",
              "      <td>7508492919</td>\n",
              "      <td>NaN</td>\n",
              "      <td>Bella Rodriguez</td>\n",
              "      <td>I liked it because it was cute, but the studs ...</td>\n",
              "      <td>Cute!</td>\n",
              "      <td>1391385600</td>\n",
              "      <td>NaN</td>\n",
              "      <td>NaN</td>\n",
              "      <td>POSITIVE</td>\n",
              "    </tr>\n",
              "  </tbody>\n",
              "</table>\n",
              "</div>"
            ],
            "text/plain": [
              "   overall  verified      reviewerID  ... vote image review_sentiment\n",
              "0      5.0      True  A24E3SXTC62LJI  ...  NaN   NaN         POSITIVE\n",
              "1      5.0      True  A269FLZCB4GIPV  ...  NaN   NaN         POSITIVE\n",
              "2      3.0      True   AB6CHQWHZW4TV  ...  NaN   NaN         NEGATIVE\n",
              "3      2.0      True   A1M117A53LEI8  ...  NaN   NaN         POSITIVE\n",
              "4      4.0      True  A272DUT8M88ZS8  ...  NaN   NaN         POSITIVE\n",
              "\n",
              "[5 rows x 12 columns]"
            ]
          },
          "metadata": {
            "tags": []
          },
          "execution_count": 17
        }
      ]
    },
    {
      "cell_type": "code",
      "metadata": {
        "colab": {
          "base_uri": "https://localhost:8080/",
          "height": 297
        },
        "id": "PIr1otPT0BuE",
        "outputId": "5af5f367-cd1f-4ac4-beee-05f34042530f"
      },
      "source": [
        "df_phonedata.describe()"
      ],
      "execution_count": 18,
      "outputs": [
        {
          "output_type": "execute_result",
          "data": {
            "text/html": [
              "<div>\n",
              "<style scoped>\n",
              "    .dataframe tbody tr th:only-of-type {\n",
              "        vertical-align: middle;\n",
              "    }\n",
              "\n",
              "    .dataframe tbody tr th {\n",
              "        vertical-align: top;\n",
              "    }\n",
              "\n",
              "    .dataframe thead th {\n",
              "        text-align: right;\n",
              "    }\n",
              "</style>\n",
              "<table border=\"1\" class=\"dataframe\">\n",
              "  <thead>\n",
              "    <tr style=\"text-align: right;\">\n",
              "      <th></th>\n",
              "      <th>overall</th>\n",
              "      <th>unixReviewTime</th>\n",
              "    </tr>\n",
              "  </thead>\n",
              "  <tbody>\n",
              "    <tr>\n",
              "      <th>count</th>\n",
              "      <td>1.128437e+06</td>\n",
              "      <td>1.128437e+06</td>\n",
              "    </tr>\n",
              "    <tr>\n",
              "      <th>mean</th>\n",
              "      <td>4.221383e+00</td>\n",
              "      <td>1.440400e+09</td>\n",
              "    </tr>\n",
              "    <tr>\n",
              "      <th>std</th>\n",
              "      <td>1.231917e+00</td>\n",
              "      <td>4.569215e+07</td>\n",
              "    </tr>\n",
              "    <tr>\n",
              "      <th>min</th>\n",
              "      <td>1.000000e+00</td>\n",
              "      <td>1.035331e+09</td>\n",
              "    </tr>\n",
              "    <tr>\n",
              "      <th>25%</th>\n",
              "      <td>4.000000e+00</td>\n",
              "      <td>1.416355e+09</td>\n",
              "    </tr>\n",
              "    <tr>\n",
              "      <th>50%</th>\n",
              "      <td>5.000000e+00</td>\n",
              "      <td>1.444349e+09</td>\n",
              "    </tr>\n",
              "    <tr>\n",
              "      <th>75%</th>\n",
              "      <td>5.000000e+00</td>\n",
              "      <td>1.470442e+09</td>\n",
              "    </tr>\n",
              "    <tr>\n",
              "      <th>max</th>\n",
              "      <td>5.000000e+00</td>\n",
              "      <td>1.538438e+09</td>\n",
              "    </tr>\n",
              "  </tbody>\n",
              "</table>\n",
              "</div>"
            ],
            "text/plain": [
              "            overall  unixReviewTime\n",
              "count  1.128437e+06    1.128437e+06\n",
              "mean   4.221383e+00    1.440400e+09\n",
              "std    1.231917e+00    4.569215e+07\n",
              "min    1.000000e+00    1.035331e+09\n",
              "25%    4.000000e+00    1.416355e+09\n",
              "50%    5.000000e+00    1.444349e+09\n",
              "75%    5.000000e+00    1.470442e+09\n",
              "max    5.000000e+00    1.538438e+09"
            ]
          },
          "metadata": {
            "tags": []
          },
          "execution_count": 18
        }
      ]
    },
    {
      "cell_type": "code",
      "metadata": {
        "colab": {
          "base_uri": "https://localhost:8080/"
        },
        "id": "lmupHhlk0EU-",
        "outputId": "c6748f53-baf7-4dc9-a4d4-c8890b99a7b4"
      },
      "source": [
        "df_phonedata.info()"
      ],
      "execution_count": 19,
      "outputs": [
        {
          "output_type": "stream",
          "text": [
            "<class 'pandas.core.frame.DataFrame'>\n",
            "RangeIndex: 1128437 entries, 0 to 1128436\n",
            "Data columns (total 12 columns):\n",
            " #   Column            Non-Null Count    Dtype  \n",
            "---  ------            --------------    -----  \n",
            " 0   overall           1128437 non-null  float64\n",
            " 1   verified          1128437 non-null  bool   \n",
            " 2   reviewerID        1128437 non-null  object \n",
            " 3   asin              1128437 non-null  object \n",
            " 4   style             605241 non-null   object \n",
            " 5   reviewerName      1128281 non-null  object \n",
            " 6   reviewText        1127669 non-null  object \n",
            " 7   summary           1127912 non-null  object \n",
            " 8   unixReviewTime    1128437 non-null  int64  \n",
            " 9   vote              92034 non-null    object \n",
            " 10  image             27107 non-null    object \n",
            " 11  review_sentiment  1128437 non-null  object \n",
            "dtypes: bool(1), float64(1), int64(1), object(9)\n",
            "memory usage: 95.8+ MB\n"
          ],
          "name": "stdout"
        }
      ]
    },
    {
      "cell_type": "code",
      "metadata": {
        "id": "-HxbvUOH0Glt"
      },
      "source": [
        "#Converting unix review time to date-time format\n",
        "\n",
        "#Transforming unixReview time to date time format\n",
        "from datetime import datetime, timedelta\n",
        "df_phonedata['Date&Time'] = df_phonedata['unixReviewTime'].apply(lambda d: (datetime.fromtimestamp(d) - timedelta(hours=2)).strftime('%Y-%m-%d'))"
      ],
      "execution_count": 20,
      "outputs": []
    },
    {
      "cell_type": "code",
      "metadata": {
        "id": "cdMWQ5ei0KLm"
      },
      "source": [
        ""
      ],
      "execution_count": 20,
      "outputs": []
    },
    {
      "cell_type": "markdown",
      "metadata": {
        "id": "kMHrhde-0M5k"
      },
      "source": [
        "Check for the null values"
      ]
    },
    {
      "cell_type": "code",
      "metadata": {
        "colab": {
          "base_uri": "https://localhost:8080/"
        },
        "id": "4j2aRHYn0NYV",
        "outputId": "f3eca7a5-de9c-4de7-af0c-cb284c3c34ae"
      },
      "source": [
        "df_phonedata.isnull().sum()"
      ],
      "execution_count": 21,
      "outputs": [
        {
          "output_type": "execute_result",
          "data": {
            "text/plain": [
              "overall                   0\n",
              "verified                  0\n",
              "reviewerID                0\n",
              "asin                      0\n",
              "style                523196\n",
              "reviewerName            156\n",
              "reviewText              768\n",
              "summary                 525\n",
              "unixReviewTime            0\n",
              "vote                1036403\n",
              "image               1101330\n",
              "review_sentiment          0\n",
              "Date&Time                 0\n",
              "dtype: int64"
            ]
          },
          "metadata": {
            "tags": []
          },
          "execution_count": 21
        }
      ]
    },
    {
      "cell_type": "code",
      "metadata": {
        "colab": {
          "base_uri": "https://localhost:8080/"
        },
        "id": "h2pyvhlB0PNe",
        "outputId": "f8fd5917-49e4-4663-b64e-91ee1e80d6cc"
      },
      "source": [
        "round(100*(df_phonedata.isnull().sum()/len(df_phonedata.index)), 2)"
      ],
      "execution_count": 22,
      "outputs": [
        {
          "output_type": "execute_result",
          "data": {
            "text/plain": [
              "overall              0.00\n",
              "verified             0.00\n",
              "reviewerID           0.00\n",
              "asin                 0.00\n",
              "style               46.36\n",
              "reviewerName         0.01\n",
              "reviewText           0.07\n",
              "summary              0.05\n",
              "unixReviewTime       0.00\n",
              "vote                91.84\n",
              "image               97.60\n",
              "review_sentiment     0.00\n",
              "Date&Time            0.00\n",
              "dtype: float64"
            ]
          },
          "metadata": {
            "tags": []
          },
          "execution_count": 22
        }
      ]
    },
    {
      "cell_type": "code",
      "metadata": {
        "id": "skoPAdHQ0Rp0"
      },
      "source": [
        ""
      ],
      "execution_count": 22,
      "outputs": []
    },
    {
      "cell_type": "markdown",
      "metadata": {
        "id": "iZoP7wcO0U5E"
      },
      "source": [
        "Drop the column with high null value"
      ]
    },
    {
      "cell_type": "code",
      "metadata": {
        "id": "8mwKxNPN0VfS"
      },
      "source": [
        "df_phonedata=df_phonedata.drop([\"style\",\"vote\",\"image\",\"unixReviewTime\"], axis=1)"
      ],
      "execution_count": 23,
      "outputs": []
    },
    {
      "cell_type": "code",
      "metadata": {
        "colab": {
          "base_uri": "https://localhost:8080/"
        },
        "id": "R2QOK0aX0Xn9",
        "outputId": "fb671cb2-e07a-4380-bd3a-001dac279ca0"
      },
      "source": [
        "df_phonedata.isnull().sum()"
      ],
      "execution_count": 24,
      "outputs": [
        {
          "output_type": "execute_result",
          "data": {
            "text/plain": [
              "overall               0\n",
              "verified              0\n",
              "reviewerID            0\n",
              "asin                  0\n",
              "reviewerName        156\n",
              "reviewText          768\n",
              "summary             525\n",
              "review_sentiment      0\n",
              "Date&Time             0\n",
              "dtype: int64"
            ]
          },
          "metadata": {
            "tags": []
          },
          "execution_count": 24
        }
      ]
    },
    {
      "cell_type": "code",
      "metadata": {
        "colab": {
          "base_uri": "https://localhost:8080/"
        },
        "id": "pDkY65SN0ZlZ",
        "outputId": "09bb0dc5-ec3f-4fe6-e9a7-9a5494e7f4ad"
      },
      "source": [
        "df_phonedata.info()"
      ],
      "execution_count": 25,
      "outputs": [
        {
          "output_type": "stream",
          "text": [
            "<class 'pandas.core.frame.DataFrame'>\n",
            "RangeIndex: 1128437 entries, 0 to 1128436\n",
            "Data columns (total 9 columns):\n",
            " #   Column            Non-Null Count    Dtype  \n",
            "---  ------            --------------    -----  \n",
            " 0   overall           1128437 non-null  float64\n",
            " 1   verified          1128437 non-null  bool   \n",
            " 2   reviewerID        1128437 non-null  object \n",
            " 3   asin              1128437 non-null  object \n",
            " 4   reviewerName      1128281 non-null  object \n",
            " 5   reviewText        1127669 non-null  object \n",
            " 6   summary           1127912 non-null  object \n",
            " 7   review_sentiment  1128437 non-null  object \n",
            " 8   Date&Time         1128437 non-null  object \n",
            "dtypes: bool(1), float64(1), object(7)\n",
            "memory usage: 70.0+ MB\n"
          ],
          "name": "stdout"
        }
      ]
    },
    {
      "cell_type": "markdown",
      "metadata": {
        "id": "LrBE8ayJ0elF"
      },
      "source": [
        "Drop all the row having null \"reviewText\""
      ]
    },
    {
      "cell_type": "code",
      "metadata": {
        "colab": {
          "base_uri": "https://localhost:8080/",
          "height": 289
        },
        "id": "uW9TdQ_Q0bxZ",
        "outputId": "68c71c55-9c0c-41a1-e0f2-2d8f029c7bab"
      },
      "source": [
        "df_phonedata = df_phonedata.dropna(subset=[\"reviewText\"])\n",
        "df_phonedata.head()"
      ],
      "execution_count": 26,
      "outputs": [
        {
          "output_type": "execute_result",
          "data": {
            "text/html": [
              "<div>\n",
              "<style scoped>\n",
              "    .dataframe tbody tr th:only-of-type {\n",
              "        vertical-align: middle;\n",
              "    }\n",
              "\n",
              "    .dataframe tbody tr th {\n",
              "        vertical-align: top;\n",
              "    }\n",
              "\n",
              "    .dataframe thead th {\n",
              "        text-align: right;\n",
              "    }\n",
              "</style>\n",
              "<table border=\"1\" class=\"dataframe\">\n",
              "  <thead>\n",
              "    <tr style=\"text-align: right;\">\n",
              "      <th></th>\n",
              "      <th>overall</th>\n",
              "      <th>verified</th>\n",
              "      <th>reviewerID</th>\n",
              "      <th>asin</th>\n",
              "      <th>reviewerName</th>\n",
              "      <th>reviewText</th>\n",
              "      <th>summary</th>\n",
              "      <th>review_sentiment</th>\n",
              "      <th>Date&amp;Time</th>\n",
              "    </tr>\n",
              "  </thead>\n",
              "  <tbody>\n",
              "    <tr>\n",
              "      <th>0</th>\n",
              "      <td>5.0</td>\n",
              "      <td>True</td>\n",
              "      <td>A24E3SXTC62LJI</td>\n",
              "      <td>7508492919</td>\n",
              "      <td>Claudia Valdivia</td>\n",
              "      <td>Looks even better in person. Be careful to not...</td>\n",
              "      <td>Can't stop won't stop looking at it</td>\n",
              "      <td>POSITIVE</td>\n",
              "      <td>2014-08-03</td>\n",
              "    </tr>\n",
              "    <tr>\n",
              "      <th>1</th>\n",
              "      <td>5.0</td>\n",
              "      <td>True</td>\n",
              "      <td>A269FLZCB4GIPV</td>\n",
              "      <td>7508492919</td>\n",
              "      <td>sarah ponce</td>\n",
              "      <td>When you don't want to spend a whole lot of ca...</td>\n",
              "      <td>1</td>\n",
              "      <td>POSITIVE</td>\n",
              "      <td>2014-02-11</td>\n",
              "    </tr>\n",
              "    <tr>\n",
              "      <th>2</th>\n",
              "      <td>3.0</td>\n",
              "      <td>True</td>\n",
              "      <td>AB6CHQWHZW4TV</td>\n",
              "      <td>7508492919</td>\n",
              "      <td>Kai</td>\n",
              "      <td>so the case came on time, i love the design. I...</td>\n",
              "      <td>Its okay</td>\n",
              "      <td>NEGATIVE</td>\n",
              "      <td>2014-02-07</td>\n",
              "    </tr>\n",
              "    <tr>\n",
              "      <th>3</th>\n",
              "      <td>2.0</td>\n",
              "      <td>True</td>\n",
              "      <td>A1M117A53LEI8</td>\n",
              "      <td>7508492919</td>\n",
              "      <td>Sharon Williams</td>\n",
              "      <td>DON'T CARE FOR IT.  GAVE IT AS A GIFT AND THEY...</td>\n",
              "      <td>CASE</td>\n",
              "      <td>POSITIVE</td>\n",
              "      <td>2014-02-03</td>\n",
              "    </tr>\n",
              "    <tr>\n",
              "      <th>4</th>\n",
              "      <td>4.0</td>\n",
              "      <td>True</td>\n",
              "      <td>A272DUT8M88ZS8</td>\n",
              "      <td>7508492919</td>\n",
              "      <td>Bella Rodriguez</td>\n",
              "      <td>I liked it because it was cute, but the studs ...</td>\n",
              "      <td>Cute!</td>\n",
              "      <td>POSITIVE</td>\n",
              "      <td>2014-02-02</td>\n",
              "    </tr>\n",
              "  </tbody>\n",
              "</table>\n",
              "</div>"
            ],
            "text/plain": [
              "   overall  verified  ... review_sentiment   Date&Time\n",
              "0      5.0      True  ...         POSITIVE  2014-08-03\n",
              "1      5.0      True  ...         POSITIVE  2014-02-11\n",
              "2      3.0      True  ...         NEGATIVE  2014-02-07\n",
              "3      2.0      True  ...         POSITIVE  2014-02-03\n",
              "4      4.0      True  ...         POSITIVE  2014-02-02\n",
              "\n",
              "[5 rows x 9 columns]"
            ]
          },
          "metadata": {
            "tags": []
          },
          "execution_count": 26
        }
      ]
    },
    {
      "cell_type": "code",
      "metadata": {
        "colab": {
          "base_uri": "https://localhost:8080/"
        },
        "id": "BucMPNle0g8r",
        "outputId": "a08dfb24-0c75-4f11-e900-77f496264841"
      },
      "source": [
        "\n",
        "df_phonedata.info()"
      ],
      "execution_count": 27,
      "outputs": [
        {
          "output_type": "stream",
          "text": [
            "<class 'pandas.core.frame.DataFrame'>\n",
            "Int64Index: 1127669 entries, 0 to 1128436\n",
            "Data columns (total 9 columns):\n",
            " #   Column            Non-Null Count    Dtype  \n",
            "---  ------            --------------    -----  \n",
            " 0   overall           1127669 non-null  float64\n",
            " 1   verified          1127669 non-null  bool   \n",
            " 2   reviewerID        1127669 non-null  object \n",
            " 3   asin              1127669 non-null  object \n",
            " 4   reviewerName      1127514 non-null  object \n",
            " 5   reviewText        1127669 non-null  object \n",
            " 6   summary           1127195 non-null  object \n",
            " 7   review_sentiment  1127669 non-null  object \n",
            " 8   Date&Time         1127669 non-null  object \n",
            "dtypes: bool(1), float64(1), object(7)\n",
            "memory usage: 78.5+ MB\n"
          ],
          "name": "stdout"
        }
      ]
    },
    {
      "cell_type": "code",
      "metadata": {
        "colab": {
          "base_uri": "https://localhost:8080/"
        },
        "id": "0WowOYN20i9-",
        "outputId": "52f67418-087b-4dd1-859e-347df66bb9b7"
      },
      "source": [
        "df_phonedata[\"verified\"].describe()"
      ],
      "execution_count": 28,
      "outputs": [
        {
          "output_type": "execute_result",
          "data": {
            "text/plain": [
              "count     1127669\n",
              "unique          2\n",
              "top          True\n",
              "freq       986586\n",
              "Name: verified, dtype: object"
            ]
          },
          "metadata": {
            "tags": []
          },
          "execution_count": 28
        }
      ]
    },
    {
      "cell_type": "code",
      "metadata": {
        "id": "mv8xBv3g0leo"
      },
      "source": [
        ""
      ],
      "execution_count": 28,
      "outputs": []
    },
    {
      "cell_type": "markdown",
      "metadata": {
        "id": "yJx1DeOw0nj2"
      },
      "source": [
        "Choose only verified reviewer"
      ]
    },
    {
      "cell_type": "code",
      "metadata": {
        "id": "2FlHqg5n0n-N"
      },
      "source": [
        "df_phonedata = df_phonedata[df_phonedata['verified'] == True] \n"
      ],
      "execution_count": 29,
      "outputs": []
    },
    {
      "cell_type": "code",
      "metadata": {
        "colab": {
          "base_uri": "https://localhost:8080/",
          "height": 204
        },
        "id": "taYNypCK0p8W",
        "outputId": "c740d07f-2624-4592-b3c6-46c479128a1f"
      },
      "source": [
        "df_phonedata.tail()"
      ],
      "execution_count": 30,
      "outputs": [
        {
          "output_type": "execute_result",
          "data": {
            "text/html": [
              "<div>\n",
              "<style scoped>\n",
              "    .dataframe tbody tr th:only-of-type {\n",
              "        vertical-align: middle;\n",
              "    }\n",
              "\n",
              "    .dataframe tbody tr th {\n",
              "        vertical-align: top;\n",
              "    }\n",
              "\n",
              "    .dataframe thead th {\n",
              "        text-align: right;\n",
              "    }\n",
              "</style>\n",
              "<table border=\"1\" class=\"dataframe\">\n",
              "  <thead>\n",
              "    <tr style=\"text-align: right;\">\n",
              "      <th></th>\n",
              "      <th>overall</th>\n",
              "      <th>verified</th>\n",
              "      <th>reviewerID</th>\n",
              "      <th>asin</th>\n",
              "      <th>reviewerName</th>\n",
              "      <th>reviewText</th>\n",
              "      <th>summary</th>\n",
              "      <th>review_sentiment</th>\n",
              "      <th>Date&amp;Time</th>\n",
              "    </tr>\n",
              "  </thead>\n",
              "  <tbody>\n",
              "    <tr>\n",
              "      <th>1128429</th>\n",
              "      <td>4.0</td>\n",
              "      <td>True</td>\n",
              "      <td>A21GBARSQXDLC4</td>\n",
              "      <td>B01HJBS5C2</td>\n",
              "      <td>csblake</td>\n",
              "      <td>Very good cell phone holster.  Keeps my phone ...</td>\n",
              "      <td>Four Stars</td>\n",
              "      <td>POSITIVE</td>\n",
              "      <td>2018-06-16</td>\n",
              "    </tr>\n",
              "    <tr>\n",
              "      <th>1128430</th>\n",
              "      <td>1.0</td>\n",
              "      <td>True</td>\n",
              "      <td>A38NMETU1NAH14</td>\n",
              "      <td>B01HJBS5C2</td>\n",
              "      <td>Justice</td>\n",
              "      <td>Mediocre case protection. Clip is junk. Broke/...</td>\n",
              "      <td>One Star</td>\n",
              "      <td>NEGATIVE</td>\n",
              "      <td>2018-01-03</td>\n",
              "    </tr>\n",
              "    <tr>\n",
              "      <th>1128431</th>\n",
              "      <td>3.0</td>\n",
              "      <td>True</td>\n",
              "      <td>A67N8PO0ZMYC5</td>\n",
              "      <td>B01HJC7N4C</td>\n",
              "      <td>Alexandria Spencer</td>\n",
              "      <td>my sons likes it. For the price it isn't too bad</td>\n",
              "      <td>Three Stars</td>\n",
              "      <td>NEGATIVE</td>\n",
              "      <td>2017-01-01</td>\n",
              "    </tr>\n",
              "    <tr>\n",
              "      <th>1128432</th>\n",
              "      <td>4.0</td>\n",
              "      <td>True</td>\n",
              "      <td>A1QWMCG1FNEP3A</td>\n",
              "      <td>B01HJC7N4C</td>\n",
              "      <td>Amazon Customer</td>\n",
              "      <td>Good for viewing. But doesn't have a button or...</td>\n",
              "      <td>Good</td>\n",
              "      <td>POSITIVE</td>\n",
              "      <td>2016-12-21</td>\n",
              "    </tr>\n",
              "    <tr>\n",
              "      <th>1128436</th>\n",
              "      <td>5.0</td>\n",
              "      <td>True</td>\n",
              "      <td>ARKQD9Z1VPOV2</td>\n",
              "      <td>B01HJH9IN6</td>\n",
              "      <td>Malfacini</td>\n",
              "      <td>i love it</td>\n",
              "      <td>Five Stars</td>\n",
              "      <td>POSITIVE</td>\n",
              "      <td>2017-05-10</td>\n",
              "    </tr>\n",
              "  </tbody>\n",
              "</table>\n",
              "</div>"
            ],
            "text/plain": [
              "         overall  verified  ... review_sentiment   Date&Time\n",
              "1128429      4.0      True  ...         POSITIVE  2018-06-16\n",
              "1128430      1.0      True  ...         NEGATIVE  2018-01-03\n",
              "1128431      3.0      True  ...         NEGATIVE  2017-01-01\n",
              "1128432      4.0      True  ...         POSITIVE  2016-12-21\n",
              "1128436      5.0      True  ...         POSITIVE  2017-05-10\n",
              "\n",
              "[5 rows x 9 columns]"
            ]
          },
          "metadata": {
            "tags": []
          },
          "execution_count": 30
        }
      ]
    },
    {
      "cell_type": "code",
      "metadata": {
        "colab": {
          "base_uri": "https://localhost:8080/"
        },
        "id": "cDEW3f_l0rvc",
        "outputId": "5d591e99-c0b0-4c5a-e752-e4c9741db8cf"
      },
      "source": [
        "df_phonedata[\"verified\"].describe()"
      ],
      "execution_count": 31,
      "outputs": [
        {
          "output_type": "execute_result",
          "data": {
            "text/plain": [
              "count     986586\n",
              "unique         1\n",
              "top         True\n",
              "freq      986586\n",
              "Name: verified, dtype: object"
            ]
          },
          "metadata": {
            "tags": []
          },
          "execution_count": 31
        }
      ]
    },
    {
      "cell_type": "markdown",
      "metadata": {
        "id": "N6-FDqN40xb-"
      },
      "source": [
        "## Merge Two dataframe meta_data and phone_data on \"asin\""
      ]
    },
    {
      "cell_type": "code",
      "metadata": {
        "id": "ZJwwZxRB0ugo"
      },
      "source": [
        "phone=pd.merge(df_phonedata,df_meta,on='asin')"
      ],
      "execution_count": 32,
      "outputs": []
    },
    {
      "cell_type": "code",
      "metadata": {
        "colab": {
          "base_uri": "https://localhost:8080/",
          "height": 649
        },
        "id": "L6_yXmJF01JD",
        "outputId": "4a5cecef-3418-4107-a063-c195663a6783"
      },
      "source": [
        "phone.head()"
      ],
      "execution_count": 33,
      "outputs": [
        {
          "output_type": "execute_result",
          "data": {
            "text/html": [
              "<div>\n",
              "<style scoped>\n",
              "    .dataframe tbody tr th:only-of-type {\n",
              "        vertical-align: middle;\n",
              "    }\n",
              "\n",
              "    .dataframe tbody tr th {\n",
              "        vertical-align: top;\n",
              "    }\n",
              "\n",
              "    .dataframe thead th {\n",
              "        text-align: right;\n",
              "    }\n",
              "</style>\n",
              "<table border=\"1\" class=\"dataframe\">\n",
              "  <thead>\n",
              "    <tr style=\"text-align: right;\">\n",
              "      <th></th>\n",
              "      <th>overall</th>\n",
              "      <th>verified</th>\n",
              "      <th>reviewerID</th>\n",
              "      <th>asin</th>\n",
              "      <th>reviewerName</th>\n",
              "      <th>reviewText</th>\n",
              "      <th>summary</th>\n",
              "      <th>review_sentiment</th>\n",
              "      <th>Date&amp;Time</th>\n",
              "      <th>category</th>\n",
              "      <th>description</th>\n",
              "      <th>title</th>\n",
              "      <th>also_buy</th>\n",
              "      <th>brand</th>\n",
              "      <th>feature</th>\n",
              "      <th>rank</th>\n",
              "      <th>also_view</th>\n",
              "      <th>main_cat</th>\n",
              "      <th>similar_item</th>\n",
              "      <th>price</th>\n",
              "      <th>catfilter</th>\n",
              "    </tr>\n",
              "  </thead>\n",
              "  <tbody>\n",
              "    <tr>\n",
              "      <th>0</th>\n",
              "      <td>5.0</td>\n",
              "      <td>True</td>\n",
              "      <td>A1V3TRGWOMA8LC</td>\n",
              "      <td>B0000E3GWH</td>\n",
              "      <td>James Beswick</td>\n",
              "      <td>..and I'm from Europe, where the phones and ne...</td>\n",
              "      <td>The best phone I've ever owned</td>\n",
              "      <td>POSITIVE</td>\n",
              "      <td>2004-04-11</td>\n",
              "      <td>[Cell Phones &amp; Accessories, Cell Phones, Carri...</td>\n",
              "      <td>[Compatible with T-Mobile cellular service, Sa...</td>\n",
              "      <td>Samsung SGH E715 - Titanium blue (T-Mobile) Ce...</td>\n",
              "      <td>[]</td>\n",
              "      <td>Samsung</td>\n",
              "      <td>[]</td>\n",
              "      <td>[&gt;#3,059,436 in Cell Phones &amp; Accessories (See...</td>\n",
              "      <td>[]</td>\n",
              "      <td>Cell Phones &amp; Accessories</td>\n",
              "      <td></td>\n",
              "      <td></td>\n",
              "      <td>Cell Phones</td>\n",
              "    </tr>\n",
              "    <tr>\n",
              "      <th>1</th>\n",
              "      <td>4.0</td>\n",
              "      <td>True</td>\n",
              "      <td>AQZGG5F4JIRXO</td>\n",
              "      <td>B0000E3GWH</td>\n",
              "      <td>flyingaho</td>\n",
              "      <td>The last year or so we have all seen an explos...</td>\n",
              "      <td>Good phone with some functions missing</td>\n",
              "      <td>POSITIVE</td>\n",
              "      <td>2003-12-18</td>\n",
              "      <td>[Cell Phones &amp; Accessories, Cell Phones, Carri...</td>\n",
              "      <td>[Compatible with T-Mobile cellular service, Sa...</td>\n",
              "      <td>Samsung SGH E715 - Titanium blue (T-Mobile) Ce...</td>\n",
              "      <td>[]</td>\n",
              "      <td>Samsung</td>\n",
              "      <td>[]</td>\n",
              "      <td>[&gt;#3,059,436 in Cell Phones &amp; Accessories (See...</td>\n",
              "      <td>[]</td>\n",
              "      <td>Cell Phones &amp; Accessories</td>\n",
              "      <td></td>\n",
              "      <td></td>\n",
              "      <td>Cell Phones</td>\n",
              "    </tr>\n",
              "    <tr>\n",
              "      <th>2</th>\n",
              "      <td>5.0</td>\n",
              "      <td>True</td>\n",
              "      <td>A1US87X5YUEQ7A</td>\n",
              "      <td>B0000SX2U2</td>\n",
              "      <td>Wayne Schulz</td>\n",
              "      <td>I've been a Blackberry user for the last 5 or ...</td>\n",
              "      <td>Blackbery User - once skeptical now convinced</td>\n",
              "      <td>POSITIVE</td>\n",
              "      <td>2004-08-12</td>\n",
              "      <td>[Cell Phones &amp; Accessories, Cell Phones, Carri...</td>\n",
              "      <td>[]</td>\n",
              "      <td>PCS Phone palmOne Treo 600 (Sprint)</td>\n",
              "      <td>[]</td>\n",
              "      <td></td>\n",
              "      <td>[]</td>\n",
              "      <td>[&gt;#5,713,484 in Cell Phones &amp; Accessories (See...</td>\n",
              "      <td>[]</td>\n",
              "      <td>Cell Phones &amp; Accessories</td>\n",
              "      <td></td>\n",
              "      <td></td>\n",
              "      <td>Cell Phones</td>\n",
              "    </tr>\n",
              "    <tr>\n",
              "      <th>3</th>\n",
              "      <td>5.0</td>\n",
              "      <td>True</td>\n",
              "      <td>A907YOG7N8ELB</td>\n",
              "      <td>B0000SX2U2</td>\n",
              "      <td>Archibald Wong</td>\n",
              "      <td>The Treo is Fantastic.  I've had mine for abou...</td>\n",
              "      <td>Fantastic</td>\n",
              "      <td>POSITIVE</td>\n",
              "      <td>2004-02-04</td>\n",
              "      <td>[Cell Phones &amp; Accessories, Cell Phones, Carri...</td>\n",
              "      <td>[]</td>\n",
              "      <td>PCS Phone palmOne Treo 600 (Sprint)</td>\n",
              "      <td>[]</td>\n",
              "      <td></td>\n",
              "      <td>[]</td>\n",
              "      <td>[&gt;#5,713,484 in Cell Phones &amp; Accessories (See...</td>\n",
              "      <td>[]</td>\n",
              "      <td>Cell Phones &amp; Accessories</td>\n",
              "      <td></td>\n",
              "      <td></td>\n",
              "      <td>Cell Phones</td>\n",
              "    </tr>\n",
              "    <tr>\n",
              "      <th>4</th>\n",
              "      <td>4.0</td>\n",
              "      <td>True</td>\n",
              "      <td>AN9Q4QY93VLLF</td>\n",
              "      <td>B0002NM98Q</td>\n",
              "      <td>Amazonian</td>\n",
              "      <td>Overall, I really like the phone but I have to...</td>\n",
              "      <td>Good mix of what everyone else writes</td>\n",
              "      <td>POSITIVE</td>\n",
              "      <td>2004-10-26</td>\n",
              "      <td>[Cell Phones &amp; Accessories, Cell Phones, Carri...</td>\n",
              "      <td>[The tri-band Motorola V600 cell phone feature...</td>\n",
              "      <td>Motorola V600 Phone (T-Mobile)</td>\n",
              "      <td>[]</td>\n",
              "      <td>Motorola</td>\n",
              "      <td>[Colorful customizable external display, VGA c...</td>\n",
              "      <td>[]</td>\n",
              "      <td>[]</td>\n",
              "      <td>Cell Phones &amp; Accessories</td>\n",
              "      <td></td>\n",
              "      <td></td>\n",
              "      <td>Cell Phones</td>\n",
              "    </tr>\n",
              "  </tbody>\n",
              "</table>\n",
              "</div>"
            ],
            "text/plain": [
              "   overall  verified      reviewerID  ... similar_item price    catfilter\n",
              "0      5.0      True  A1V3TRGWOMA8LC  ...                     Cell Phones\n",
              "1      4.0      True   AQZGG5F4JIRXO  ...                     Cell Phones\n",
              "2      5.0      True  A1US87X5YUEQ7A  ...                     Cell Phones\n",
              "3      5.0      True   A907YOG7N8ELB  ...                     Cell Phones\n",
              "4      4.0      True   AN9Q4QY93VLLF  ...                     Cell Phones\n",
              "\n",
              "[5 rows x 21 columns]"
            ]
          },
          "metadata": {
            "tags": []
          },
          "execution_count": 33
        }
      ]
    },
    {
      "cell_type": "code",
      "metadata": {
        "colab": {
          "base_uri": "https://localhost:8080/"
        },
        "id": "8wyx90KT03Bj",
        "outputId": "99d8f8f7-4749-43af-e374-db8721712656"
      },
      "source": [
        "phone.info()"
      ],
      "execution_count": 34,
      "outputs": [
        {
          "output_type": "stream",
          "text": [
            "<class 'pandas.core.frame.DataFrame'>\n",
            "Int64Index: 53442 entries, 0 to 53441\n",
            "Data columns (total 21 columns):\n",
            " #   Column            Non-Null Count  Dtype  \n",
            "---  ------            --------------  -----  \n",
            " 0   overall           53442 non-null  float64\n",
            " 1   verified          53442 non-null  bool   \n",
            " 2   reviewerID        53442 non-null  object \n",
            " 3   asin              53442 non-null  object \n",
            " 4   reviewerName      53436 non-null  object \n",
            " 5   reviewText        53442 non-null  object \n",
            " 6   summary           53425 non-null  object \n",
            " 7   review_sentiment  53442 non-null  object \n",
            " 8   Date&Time         53442 non-null  object \n",
            " 9   category          53442 non-null  object \n",
            " 10  description       53442 non-null  object \n",
            " 11  title             53442 non-null  object \n",
            " 12  also_buy          53442 non-null  object \n",
            " 13  brand             53442 non-null  object \n",
            " 14  feature           53442 non-null  object \n",
            " 15  rank              53442 non-null  object \n",
            " 16  also_view         53442 non-null  object \n",
            " 17  main_cat          53442 non-null  object \n",
            " 18  similar_item      53442 non-null  object \n",
            " 19  price             53442 non-null  object \n",
            " 20  catfilter         53442 non-null  object \n",
            "dtypes: bool(1), float64(1), object(19)\n",
            "memory usage: 8.6+ MB\n"
          ],
          "name": "stdout"
        }
      ]
    },
    {
      "cell_type": "code",
      "metadata": {
        "id": "PSX2pZvC05Jh"
      },
      "source": [
        ""
      ],
      "execution_count": 34,
      "outputs": []
    },
    {
      "cell_type": "markdown",
      "metadata": {
        "id": "57irR9F-07oG"
      },
      "source": [
        "Check for value_conts of different brand and drop the outliers"
      ]
    },
    {
      "cell_type": "code",
      "metadata": {
        "colab": {
          "base_uri": "https://localhost:8080/"
        },
        "id": "5k9YYUnu08X_",
        "outputId": "8a2aef55-a18b-4182-a6aa-dee3c532dca8"
      },
      "source": [
        "phone[\"brand\"].value_counts()"
      ],
      "execution_count": 35,
      "outputs": [
        {
          "output_type": "execute_result",
          "data": {
            "text/plain": [
              "Samsung          13819\n",
              "BLU               8324\n",
              "LG                5393\n",
              "Motorola          4125\n",
              "Nokia             3533\n",
              "                 ...  \n",
              "Palm Treo 650        2\n",
              "RugGear              2\n",
              "Sonim                2\n",
              "TracFone             2\n",
              "Acer                 1\n",
              "Name: brand, Length: 145, dtype: int64"
            ]
          },
          "metadata": {
            "tags": []
          },
          "execution_count": 35
        }
      ]
    },
    {
      "cell_type": "code",
      "metadata": {
        "id": "OEu42pfD0-4a"
      },
      "source": [
        "phone = phone[phone.groupby('brand').brand.transform('count')>1000].copy()\n"
      ],
      "execution_count": 36,
      "outputs": []
    },
    {
      "cell_type": "code",
      "metadata": {
        "colab": {
          "base_uri": "https://localhost:8080/"
        },
        "id": "M0xUNL9n1BSf",
        "outputId": "478975ff-9017-4965-fb72-320ef2e2b19a"
      },
      "source": [
        "phone[\"brand\"].value_counts()"
      ],
      "execution_count": 37,
      "outputs": [
        {
          "output_type": "execute_result",
          "data": {
            "text/plain": [
              "Samsung       13819\n",
              "BLU            8324\n",
              "LG             5393\n",
              "Motorola       4125\n",
              "Nokia          3533\n",
              "Apple          3494\n",
              "BlackBerry     3206\n",
              "HTC            1974\n",
              "Sony           1299\n",
              "Huawei         1183\n",
              "Name: brand, dtype: int64"
            ]
          },
          "metadata": {
            "tags": []
          },
          "execution_count": 37
        }
      ]
    },
    {
      "cell_type": "code",
      "metadata": {
        "colab": {
          "base_uri": "https://localhost:8080/"
        },
        "id": "T6LssNYt1DWv",
        "outputId": "0c8dabc5-fa8e-4f1e-b7d0-4e5860980a9a"
      },
      "source": [
        "phone.info()"
      ],
      "execution_count": 38,
      "outputs": [
        {
          "output_type": "stream",
          "text": [
            "<class 'pandas.core.frame.DataFrame'>\n",
            "Int64Index: 46350 entries, 0 to 53441\n",
            "Data columns (total 21 columns):\n",
            " #   Column            Non-Null Count  Dtype  \n",
            "---  ------            --------------  -----  \n",
            " 0   overall           46350 non-null  float64\n",
            " 1   verified          46350 non-null  bool   \n",
            " 2   reviewerID        46350 non-null  object \n",
            " 3   asin              46350 non-null  object \n",
            " 4   reviewerName      46345 non-null  object \n",
            " 5   reviewText        46350 non-null  object \n",
            " 6   summary           46334 non-null  object \n",
            " 7   review_sentiment  46350 non-null  object \n",
            " 8   Date&Time         46350 non-null  object \n",
            " 9   category          46350 non-null  object \n",
            " 10  description       46350 non-null  object \n",
            " 11  title             46350 non-null  object \n",
            " 12  also_buy          46350 non-null  object \n",
            " 13  brand             46350 non-null  object \n",
            " 14  feature           46350 non-null  object \n",
            " 15  rank              46350 non-null  object \n",
            " 16  also_view         46350 non-null  object \n",
            " 17  main_cat          46350 non-null  object \n",
            " 18  similar_item      46350 non-null  object \n",
            " 19  price             46350 non-null  object \n",
            " 20  catfilter         46350 non-null  object \n",
            "dtypes: bool(1), float64(1), object(19)\n",
            "memory usage: 7.5+ MB\n"
          ],
          "name": "stdout"
        }
      ]
    },
    {
      "cell_type": "code",
      "metadata": {
        "id": "FoYvhCRw1F2F"
      },
      "source": [
        ""
      ],
      "execution_count": 38,
      "outputs": []
    },
    {
      "cell_type": "code",
      "metadata": {
        "id": "KkDGUU-I2lL-"
      },
      "source": [
        ""
      ],
      "execution_count": 38,
      "outputs": []
    }
  ]
}